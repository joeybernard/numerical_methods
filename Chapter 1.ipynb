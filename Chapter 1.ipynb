{
 "cells": [
  {
   "cell_type": "code",
   "execution_count": 1,
   "id": "modified-idaho",
   "metadata": {},
   "outputs": [],
   "source": [
    "import matplotlib.pyplot as plt\n",
    "import numpy as np"
   ]
  },
  {
   "cell_type": "code",
   "execution_count": 2,
   "id": "subsequent-hebrew",
   "metadata": {},
   "outputs": [
    {
     "data": {
      "text/plain": [
       "(array([0. , 0.2, 0.4, 0.6, 0.8, 1. ]),\n",
       " array([0.892, 1.44 , 1.31 , 1.66 , 1.1  , 1.19 ]),\n",
       " [1, 2, 3, 4, 5])"
      ]
     },
     "execution_count": 2,
     "metadata": {},
     "output_type": "execute_result"
    }
   ],
   "source": [
    "x = np.array([0.0, 0.2, 0.4, 0.6, 0.8, 1.0])\n",
    "y = np.array([0.892, 1.44, 1.31, 1.66, 1.10, 1.19])\n",
    "j = [1, 2, 3, 4, 5]\n",
    "x, y, j"
   ]
  },
  {
   "cell_type": "code",
   "execution_count": 3,
   "id": "varied-heater",
   "metadata": {},
   "outputs": [
    {
     "data": {
      "text/plain": [
       "array([[0., 0., 0., 0., 0.],\n",
       "       [0., 0., 0., 0., 0.],\n",
       "       [0., 0., 0., 0., 0.],\n",
       "       [0., 0., 0., 0., 0.],\n",
       "       [0., 0., 0., 0., 0.],\n",
       "       [0., 0., 0., 0., 0.]])"
      ]
     },
     "execution_count": 3,
     "metadata": {},
     "output_type": "execute_result"
    }
   ],
   "source": [
    "S = np.array([[0 for i in j] for k in range(len(x))], dtype=float)\n",
    "S"
   ]
  },
  {
   "cell_type": "code",
   "execution_count": 4,
   "id": "latin-transportation",
   "metadata": {},
   "outputs": [
    {
     "data": {
      "text/plain": [
       "array([[1.    , 0.    , 0.    , 0.    , 0.    ],\n",
       "       [1.    , 0.2   , 0.04  , 0.008 , 0.0016],\n",
       "       [1.    , 0.4   , 0.16  , 0.064 , 0.0256],\n",
       "       [1.    , 0.6   , 0.36  , 0.216 , 0.1296],\n",
       "       [1.    , 0.8   , 0.64  , 0.512 , 0.4096],\n",
       "       [1.    , 1.    , 1.    , 1.    , 1.    ]])"
      ]
     },
     "execution_count": 4,
     "metadata": {},
     "output_type": "execute_result"
    }
   ],
   "source": [
    "for i in j:\n",
    "    for k in range(len(x)):\n",
    "        a = x[k]**(i-1)\n",
    "        S[k, i-1] = a\n",
    "S"
   ]
  },
  {
   "cell_type": "code",
   "execution_count": 5,
   "id": "sharp-excellence",
   "metadata": {},
   "outputs": [
    {
     "data": {
      "text/plain": [
       "array([[ 9.96031746e-01,  1.98412698e-02, -3.96825397e-02,\n",
       "         3.96825397e-02, -1.98412698e-02,  3.96825397e-03],\n",
       "       [-9.09391534e+00,  1.33862434e+01, -1.77248677e+00,\n",
       "        -6.56084656e+00,  5.36375661e+00, -1.32275132e+00],\n",
       "       [ 2.69097222e+01, -6.05902778e+01,  2.32638889e+01,\n",
       "         3.71527778e+01, -3.62847222e+01,  9.54861111e+00],\n",
       "       [-3.18287037e+01,  8.62268519e+01, -4.74537037e+01,\n",
       "        -5.67129630e+01,  7.00231481e+01, -2.02546296e+01],\n",
       "       [ 1.30208333e+01, -3.90625000e+01,  2.60416667e+01,\n",
       "         2.60416667e+01, -3.90625000e+01,  1.30208333e+01]])"
      ]
     },
     "execution_count": 5,
     "metadata": {},
     "output_type": "execute_result"
    }
   ],
   "source": [
    "Sinv = np.linalg.pinv(S)\n",
    "Sinv"
   ]
  },
  {
   "cell_type": "code",
   "execution_count": 6,
   "id": "tracked-livestock",
   "metadata": {},
   "outputs": [
    {
     "data": {
      "text/plain": [
       "array([ 0.91381746,  2.27751323,  0.35243056, -7.6099537 ,  5.234375  ])"
      ]
     },
     "execution_count": 6,
     "metadata": {},
     "output_type": "execute_result"
    }
   ],
   "source": [
    "c = np.dot(Sinv, y)\n",
    "c"
   ]
  },
  {
   "cell_type": "code",
   "execution_count": 7,
   "id": "egyptian-custom",
   "metadata": {},
   "outputs": [
    {
     "data": {
      "text/plain": [
       "[<matplotlib.lines.Line2D at 0x7febe6c59730>]"
      ]
     },
     "execution_count": 7,
     "metadata": {},
     "output_type": "execute_result"
    },
    {
     "data": {
      "image/png": "[encoded data removed]",
      "text/plain": [
       "<Figure size 432x288 with 1 Axes>"
      ]
     },
     "metadata": {
      "needs_background": "light"
     },
     "output_type": "display_data"
    }
   ],
   "source": [
    "plt.plot(x,y)"
   ]
  },
  {
   "cell_type": "code",
   "execution_count": 8,
   "id": "distinguished-dividend",
   "metadata": {},
   "outputs": [
    {
     "data": {
      "text/plain": [
       "array([0. , 0.2, 0.4, 0.6, 0.8, 1. ])"
      ]
     },
     "execution_count": 8,
     "metadata": {},
     "output_type": "execute_result"
    }
   ],
   "source": [
    "def f(t):\n",
    "    return c[0] + c[1]*(t) + c[2]*(t**2) + c[3]*(t**3) + c[4]*(t**4)\n",
    "\n",
    "x = np.array(x)\n",
    "x"
   ]
  },
  {
   "cell_type": "code",
   "execution_count": 9,
   "id": "postal-anaheim",
   "metadata": {},
   "outputs": [
    {
     "data": {
      "text/plain": [
       "array([0.91381746, 1.3309127 , 1.5281746 , 1.4418254 , 1.2090873 ,\n",
       "       1.16818254])"
      ]
     },
     "execution_count": 9,
     "metadata": {},
     "output_type": "execute_result"
    }
   ],
   "source": [
    "f(x)"
   ]
  },
  {
   "cell_type": "code",
   "execution_count": 10,
   "id": "standard-mystery",
   "metadata": {},
   "outputs": [
    {
     "data": {
      "text/plain": [
       "[<matplotlib.lines.Line2D at 0x7febe6715280>]"
      ]
     },
     "execution_count": 10,
     "metadata": {},
     "output_type": "execute_result"
    },
    {
     "data": {
      "image/png": "[encoded data removed]",
      "text/plain": [
       "<Figure size 432x288 with 1 Axes>"
      ]
     },
     "metadata": {
      "needs_background": "light"
     },
     "output_type": "display_data"
    }
   ],
   "source": [
    "plt.plot(x, f(x))"
   ]
  },
  {
   "cell_type": "code",
   "execution_count": null,
   "id": "processed-bracket",
   "metadata": {},
   "outputs": [],
   "source": []
  }
 ],
 "metadata": {
  "kernelspec": {
   "display_name": "Python 3",
   "language": "python",
   "name": "python3"
  },
  "language_info": {
   "codemirror_mode": {
    "name": "ipython",
    "version": 3
   },
   "file_extension": ".py",
   "mimetype": "text/x-python",
   "name": "python",
   "nbconvert_exporter": "python",
   "pygments_lexer": "ipython3",
   "version": "3.9.7"
  }
 },
 "nbformat": 4,
 "nbformat_minor": 5
}
